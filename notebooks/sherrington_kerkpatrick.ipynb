{
 "cells": [
  {
   "cell_type": "code",
   "execution_count": 1,
   "metadata": {},
   "outputs": [],
   "source": [
    "using VQE, LinearAlgebra\n",
    "using Printf\n",
    "using HDF5 \n",
    "\n",
    "import Random, Distributions\n",
    "\n",
    "using PyPlot"
   ]
  },
  {
   "cell_type": "code",
   "execution_count": 2,
   "metadata": {},
   "outputs": [
    {
     "data": {
      "text/plain": [
       "Problem\n",
       "  num_qubits: Int64 3\n",
       "  num_layers: Int64 2\n",
       "  local_fields: Array{Real}((3,)) Real[0.13375702345533, 0.0036930338557504432, 0.5303622417454488]\n",
       "  couplings: Array{Real}((3, 3)) Real[0.0 0.5428970107716381 -1.3951405027746535; 0.5428970107716381 0.0 -0.9460077791129564; -1.3951405027746535 -0.9460077791129564 0.0]\n",
       "  edges: Array{CartesianIndex{2}}((6,))\n",
       "  driver: YaoBlocks.ConstGate.XGate X\n"
      ]
     },
     "metadata": {},
     "output_type": "display_data"
    }
   ],
   "source": [
    "N = 4\n",
    "σ2 = 1.0\n",
    "\n",
    "Random.seed!(1)\n",
    "J = rand(Distributions.Normal(0, σ2), N, N) ./ sqrt(N) \n",
    "J[diagind(J)] .= 0.0\n",
    "J = UpperTriangular(J)\n",
    "J = J + transpose(J)\n",
    "     \n",
    "N = N-1\n",
    "p = 2\n",
    "SK_problem = Problem(p, J)\n",
    "mf_problem = Problem(0, J);\n",
    "\n",
    "SK_problem"
   ]
  },
  {
   "cell_type": "code",
   "execution_count": 3,
   "metadata": {},
   "outputs": [
    {
     "data": {
      "text/plain": [
       "(2.8767224693215696, [0.865895193933015, 0.749239653476879, 0.7324583134435738, 0.13960012113592446, 0.49930645087931413, 0.009961712091144536, 0.4596267260943535, 0.3409371149315209, 0.4398047496036658, 0.5739115138356952, 0.7476752201229243, 0.19794491990178428, 0.3099760786140175, 0.49990097185958543, 0.20370215163826416, 0.18606587301624936, 0.36358204926081317, 0.46208533237526267], [0.00044057912699251457, 3.5829239218489755e-6, 0.0007548202136230739, 0.4996405842312328, 0.49838583375124046, 0.000629206664105812, 1.0956027681723018e-5, 0.00013443706120162786], Any[1.8068428030940784, 2.046547750947528, 2.2211946442116273, 2.3434252513946605, 2.429770646200891, 2.4931320621552793, 2.5417685762970352, 2.580606465390232, 2.6125788994271635, 2.639490563692415  …  2.876071360487497, 2.876145972152374, 2.876220003029175, 2.8762934593358653, 2.8763663472087804, 2.8764386727042273, 2.876510441800024, 2.8765816603970062, 2.876652334320463, 2.8767224693215696])"
      ]
     },
     "metadata": {},
     "output_type": "display_data"
    }
   ],
   "source": [
    "circ = VQE.circuit(SK_problem)\n",
    "#println(circ)\n",
    "num_params = VQE.nparameters(circ)\n",
    "#println(num_params)\n",
    "initial_params = vcat([0.5 for _ in 1:num_params])\n",
    "#println(initial_params)\n",
    "#initial_params = vcat([0.5 for _ in 1:2p])\n",
    "\n",
    "\n",
    "learning_rate = 0.03\n",
    "niter = 200\n",
    "\n",
    "cost, i_params, probs, cost_history = optimize_parameters(SK_problem, initial_params; niter, learning_rate=learning_rate)\n",
    "#println(length(i_params))"
   ]
  }
 ],
 "metadata": {
  "kernelspec": {
   "display_name": "Julia 1.11.1",
   "language": "julia",
   "name": "julia-1.11"
  },
  "language_info": {
   "file_extension": ".jl",
   "mimetype": "application/julia",
   "name": "julia",
   "version": "1.11.1"
  }
 },
 "nbformat": 4,
 "nbformat_minor": 2
}
