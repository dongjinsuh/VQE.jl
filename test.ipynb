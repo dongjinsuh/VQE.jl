{
 "cells": [
  {
   "cell_type": "code",
   "execution_count": 20,
   "metadata": {},
   "outputs": [],
   "source": [
    "using VQE, LinearAlgebra\n",
    "using Printf\n",
    "using HDF5 \n",
    "\n",
    "import Random, Distributions\n",
    "\n",
    "using PyPlot"
   ]
  },
  {
   "cell_type": "code",
   "execution_count": 21,
   "metadata": {},
   "outputs": [],
   "source": [
    "# load the SK hard instance data\n",
    "\n",
    "# number of spins\n",
    "N = 12\n",
    "\n",
    "PATH = raw\"/home/ubuntu/aqc_QAOA/SpinFluctuations.jl\"\n",
    "PATH_t = raw\"/home/ubuntu/aqc_QAOA/transformation_hard_SK_instances\"\n",
    "\n",
    "#subdir = \"small_gaps\"\n",
    "# subdir = \"large_gaps\"\n",
    "folder_name = PATH * @sprintf(\"/data/N_%i/\", N);\n",
    "folder_name_t = PATH_t * @sprintf(\"/data/N_%i/\", N);"
   ]
  },
  {
   "cell_type": "code",
   "execution_count": 22,
   "metadata": {},
   "outputs": [
    {
     "name": "stdout",
     "output_type": "stream",
     "text": [
      "-6.621548884190914\n",
      "Problem\n",
      "  num_qubits: Int64 12\n",
      "  num_layers: Int64 0\n",
      "  local_fields: Array{Real}((12,)) Real[-3.487046747337776, -0.8806716417717356, -3.8960556820418963, 3.8168877439625866, -5.0438929786846805, -1.9671340854822044, -0.1152917411734118, -2.2284985262254167, -1.4622957743414886, -1.393290878798267, -0.6244913490750017, 1.741156139263947]\n",
      "  couplings: Array{Real}((12, 12)) Real[0.0 0.15332470251411254 … 5.476511645685741 2.23125092381722; 0.15332470251411254 0.0 … -1.56460601704686 0.49990345968646316; … ; 5.476511645685741 -1.56460601704686 … 0.0 -6.482658138404204; 2.23125092381722 0.49990345968646316 … -6.482658138404204 0.0]\n",
      "  edges: Array{CartesianIndex{2}}((132,))\n",
      "  driver: YaoBlocks.ConstGate.XGate X\n",
      "\n"
     ]
    }
   ],
   "source": [
    "seed = 10103\n",
    "#100774\n",
    "#10103\n",
    "#124718\n",
    "#101738\n",
    "#100052\n",
    "\n",
    "#spin_idx = 2\n",
    "file_name = folder_name * @sprintf(\"hard_random_SK_instance_N_%i_seed_%i.h5\", N , seed)\n",
    "file_name_t = folder_name_t * @sprintf(\"transformed_hard_SK_instance_N_%i_seed_%i.h5\", N , seed)\n",
    "\n",
    "gs_energy = h5read(file_name, \"ground_state_energy\") \n",
    "J_mat = h5read(file_name, \"couplings\"); \n",
    "local_fields = h5read(file_name, \"local_fields\")\n",
    "mf_problem = Problem(0, local_fields, J_mat);\n",
    "println(gs_energy)\n",
    "\n",
    "gs_energy_t = h5read(file_name_t, \"ground_state_energy\")\n",
    "J_mat_t = h5read(file_name_t, \"couplings\"); \n",
    "local_fields_t = h5read(file_name_t, \"local_fields\")\n",
    "mf_problem_t = Problem(0, local_fields_t, J_mat_t);\n",
    "mf_problem_t\n",
    "#println(gs_energy_t)\n",
    "#println(J_mat_t)\n",
    "#println(local_fields_t)\n",
    "println(mf_problem_t)"
   ]
  },
  {
   "cell_type": "code",
   "execution_count": 23,
   "metadata": {},
   "outputs": [
    {
     "data": {
      "text/plain": [
       "Problem\n",
       "  num_qubits: Int64 3\n",
       "  num_layers: Int64 2\n",
       "  local_fields: Array{Real}((3,)) Real[0.13375702345533, 0.0036930338557504432, 0.5303622417454488]\n",
       "  couplings: Array{Real}((3, 3)) Real[0.0 0.5428970107716381 -1.3951405027746535; 0.5428970107716381 0.0 -0.9460077791129564; -1.3951405027746535 -0.9460077791129564 0.0]\n",
       "  edges: Array{CartesianIndex{2}}((6,))\n",
       "  driver: YaoBlocks.ConstGate.XGate X\n"
      ]
     },
     "metadata": {},
     "output_type": "display_data"
    }
   ],
   "source": [
    "N = 4\n",
    "σ2 = 1.0\n",
    "\n",
    "Random.seed!(1)\n",
    "J = rand(Distributions.Normal(0, σ2), N, N) ./ sqrt(N) \n",
    "J[diagind(J)] .= 0.0\n",
    "J = UpperTriangular(J)\n",
    "J = J + transpose(J)\n",
    "     \n",
    "N = N-1\n",
    "p = 2\n",
    "SK_problem = Problem(p, J)\n",
    "mf_problem = Problem(0, J);\n",
    "\n",
    "SK_problem"
   ]
  },
  {
   "cell_type": "code",
   "execution_count": 25,
   "metadata": {},
   "outputs": [
    {
     "data": {
      "text/plain": [
       "(2.8821530113636245, [-0.03824886512235429, -0.009374035821602613, 1.694327737944832, 1.0642424456422, 0.3659031199150343, 0.18896504978768686, 0.21280560179444982, 0.37149756539629736, 0.024389651380446468, 0.04429712930978625, 0.0021794650910858557, 1.4451226648148163, 0.6129916589363935, 0.7277189580307749, 0.7390950324981234, 0.7454511745340318, 0.8746509168982032, 1.559757776940473], [0.0002903114154316422, 0.00020070487059923106, 0.00012506095610588722, 0.5009683805949354, 0.49818344342240534, 9.799751871922998e-5, 0.00013206218155846372, 2.0390402445920224e-6], Any[-0.9381588982079099, -0.8762259048431159, -0.8090105931818747, -0.7366234676570417, -0.6593615930289107, -0.5777154292463639, -0.4923565173789368, -0.4041037626135555, -0.31386960250874507, -0.22259136141875316  …  2.880581559162221, 2.880787066747171, 2.880984001993082, 2.8811727535815663, 2.8813536922138745, 2.881527171466949, 2.8816935286075296, 2.881853085366366, 2.8820061486745203, 2.8821530113636245])"
      ]
     },
     "metadata": {},
     "output_type": "display_data"
    }
   ],
   "source": [
    "circ_c = VQE.circuit(SK_problem)\n",
    "num_params = VQE.nparameters(circ_c)\n",
    "initial_params = vcat([0.5 for _ in 1:num_params])\n",
    "#println(initial_params)\n",
    "#initial_params = vcat([0.5 for _ in 1:2p])\n",
    "\n",
    "\n",
    "learning_rate = 0.03\n",
    "niter = 200\n",
    "\n",
    "cost, i_params, probs, cost_history = optimize_parameters(SK_problem, initial_params; niter, learning_rate=learning_rate)"
   ]
  }
 ],
 "metadata": {
  "kernelspec": {
   "display_name": "Julia 1.11.1",
   "language": "julia",
   "name": "julia-1.11"
  },
  "language_info": {
   "file_extension": ".jl",
   "mimetype": "application/julia",
   "name": "julia",
   "version": "1.11.1"
  }
 },
 "nbformat": 4,
 "nbformat_minor": 2
}
